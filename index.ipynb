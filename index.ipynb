{
 "cells": [
  {
   "cell_type": "markdown",
   "metadata": {},
   "source": [
    "# While Loops, Break and Continue - Lab"
   ]
  },
  {
   "cell_type": "markdown",
   "metadata": {},
   "source": [
    "## Introduction\n",
    "In this lab, we will practice using `while` loops, and `break` and `continue` statements in our code. We will use our control flow statements to iterate through collections and filter out or selectively operate on each element. We'll use `while` loops to perform operations until a given condition is no longer true."
   ]
  },
  {
   "cell_type": "markdown",
   "metadata": {},
   "source": [
    "## Objectives\n",
    "You will be able to:\n",
    "* Use a break and continue statements inside a loop\n",
    "* Understand, explain and use while loops"
   ]
  },
  {
   "cell_type": "markdown",
   "metadata": {},
   "source": [
    "## Instructions\n",
    "\n",
    "### While Loops\n",
    "Use while loops to perform the below operations and get the expected return values"
   ]
  },
  {
   "cell_type": "code",
   "execution_count": 1,
   "metadata": {},
   "outputs": [
    {
     "name": "stdout",
     "output_type": "stream",
     "text": [
      "I ate  1 slices of pizza\n",
      "I ate  2 slices of pizza\n",
      "I ate  3 slices of pizza\n",
      "I ate  4 slices of pizza\n",
      "I ate  5 slices of pizza\n",
      "I ate  6 slices of pizza\n",
      "I have eaten 6 slices and have 0 left\n"
     ]
    }
   ],
   "source": [
    "slices_of_pie = 6\n",
    "slices_eaten = 0\n",
    "while slices_of_pie > 0:\n",
    "    slices_of_pie -=1\n",
    "    slices_eaten +=1\n",
    "    print(\"I ate \", slices_eaten, \"slices of pizza\" )\n",
    "\n",
    "print(\"I have eaten\", slices_eaten, \"slices and have\", slices_of_pie, 'left')\n",
    "\n",
    "# use a while loop to eat each slice of pie\n",
    "# add each slice to the slices_eaten variable"
   ]
  },
  {
   "cell_type": "code",
   "execution_count": 4,
   "metadata": {},
   "outputs": [
    {
     "name": "stdout",
     "output_type": "stream",
     "text": [
      "Add a pancake to the skillet\n",
      "flip the pancake\n",
      "I ate  1 pancakes and have 1414 seconds left\n",
      "Add a pancake to the skillet\n",
      "flip the pancake\n",
      "I ate  2 pancakes and have 1360 seconds left\n",
      "Add a pancake to the skillet\n",
      "flip the pancake\n",
      "I ate  3 pancakes and have 1306 seconds left\n",
      "Add a pancake to the skillet\n",
      "flip the pancake\n",
      "I ate  4 pancakes and have 1252 seconds left\n",
      "Add a pancake to the skillet\n",
      "flip the pancake\n",
      "I ate  5 pancakes and have 1198 seconds left\n"
     ]
    }
   ],
   "source": [
    "time_for_breakfast = 1468 # in seconds\n",
    "number_of_cooked_pancakes = 0\n",
    "while number_of_cooked_pancakes < 5:\n",
    "    print(\"Add a pancake to the skillet\")\n",
    "    time_for_breakfast -=27\n",
    "    print (\"flip the pancake\")\n",
    "    time_for_breakfast -=27\n",
    "    number_of_cooked_pancakes +=1\n",
    "    print(\"I ate \", number_of_cooked_pancakes, \"pancakes and have\", time_for_breakfast, \"seconds left\" )\n",
    "# use a while loop to make yourself 5 pancakes for breakfast\n",
    "# each pancake takes 27 seconds to cook on each side\n",
    "# you must decrease the time_for_breakfast each time you \n",
    "# add a pancake to the skillet (frying pan) or flip a pancake (i.e. 2 times per pancake)\n",
    "# there is only room for one pancake at a time"
   ]
  },
  {
   "cell_type": "markdown",
   "metadata": {},
   "source": [
    "> **Hint:** You may find the [remove method](https://www.programiz.com/python-programming/methods/list/remove) to be useful for the next problem"
   ]
  },
  {
   "cell_type": "code",
   "execution_count": 9,
   "metadata": {},
   "outputs": [
    {
     "name": "stdout",
     "output_type": "stream",
     "text": [
      "[1, 3, 5, 7, 9, 11, 13, 15, 17, 19, 21, 23, 25, 27, 29]\n",
      "[0, 2, 4, 6, 8, 10, 12, 14, 16, 18, 20, 22, 24, 26, 28]\n"
     ]
    }
   ],
   "source": [
    "line_of_hungry_patrons = list(range(0,30))\n",
    "fed_patrons = []\n",
    "for num in line_of_hungry_patrons:\n",
    "    if num % 2 == 0:\n",
    "        fed_patrons.append(num)\n",
    "        line_of_hungry_patrons.remove(num)\n",
    "    elif num % 2 != 0:\n",
    "        continue\n",
    "print(line_of_hungry_patrons)\n",
    "print(fed_patrons)\n",
    "# use a while loop to to feed the hungry patrons who have an even number\n",
    "# add the patrons with an even number to the fed_patrons list\n",
    "# then remove the even numbered patrons from the line_of_hungry_patrons\n",
    "# each list should contain 15 elements"
   ]
  },
  {
   "cell_type": "markdown",
   "metadata": {},
   "source": [
    "### `break` And `continue` Statements"
   ]
  },
  {
   "cell_type": "markdown",
   "metadata": {},
   "source": [
    "We have a list of person objects with all kinds of attributes. We'll use loops to find a person that meets a certain requirement that we are looking for or create new lists with a certain subset of elements. Write for loops with conditional statements in conjunction with `break` and `continue` to get the desired output."
   ]
  },
  {
   "cell_type": "code",
   "execution_count": 10,
   "metadata": {},
   "outputs": [],
   "source": [
    "people = [\n",
    "    {'name': \"Daniel\", 'age': 29, 'job': \"Engineer\", 'pet': \"Cat\", 'pet_name': \"Gato\"}, \n",
    "    {'name': \"Katie\", 'age': 30, 'job': \"Teacher\", 'pet': \"Dog\", 'pet_name': \"Frank\"},\n",
    "    {'name': \"Owen\", 'age': 26, 'job': \"Sales person\", 'pet': \"Cat\", 'pet_name': \"Cosmo\"},\n",
    "    {'name': \"Josh\", 'age': 22, 'job': \"Student\", 'pet': \"Cat\", 'pet_name': \"Chat\"},\n",
    "    {'name': \"Estelle\", 'age': 35, 'job': \"French Diplomat\", 'pet': \"Dog\", 'pet_name': \"Gabby\"},\n",
    "    {'name': \"Gustav\", 'age': 24, 'job': \"Brewer\", 'pet': \"Dog\", 'pet_name': \"Helen\"}\n",
    "]"
   ]
  },
  {
   "cell_type": "code",
   "execution_count": 39,
   "metadata": {},
   "outputs": [
    {
     "name": "stdout",
     "output_type": "stream",
     "text": [
      "{'name': 'Katie', 'age': 30, 'job': 'Teacher', 'pet': 'Dog', 'pet_name': 'Frank'}\n",
      "2\n"
     ]
    }
   ],
   "source": [
    "# use the for loop below to find the *first* person in the list of people that has a dog as their pet\n",
    "# the iteration count shouldn't exceed 2 iterations\n",
    "first_dog_person = None\n",
    "iteration_count = 0\n",
    "pet_type = None\n",
    "for person in people:\n",
    "    pet_type = person['pet']\n",
    "    iteration_count += 1\n",
    "    if pet_type.startswith(\"D\"):\n",
    "        first_dog_person = person\n",
    "        break\n",
    "    if pet_type.startswith(\"C\"):\n",
    "        pass\n",
    "print(first_dog_person)\n",
    "print(iteration_count)\n"
   ]
  },
  {
   "cell_type": "code",
   "execution_count": null,
   "metadata": {},
   "outputs": [],
   "source": []
  },
  {
   "cell_type": "code",
   "execution_count": 57,
   "metadata": {},
   "outputs": [
    {
     "name": "stdout",
     "output_type": "stream",
     "text": [
      "['Owen', 'Josh']\n",
      "3\n"
     ]
    }
   ],
   "source": [
    "# use a for loop to create a list of the cat owners who are under the age of 28\n",
    "# remember to use break and continue to make your code more efficient\n",
    "cat_owners = None\n",
    "iteration_count = 0\n",
    "cat_owners_under_28 = []\n",
    "for person in people:\n",
    "    pet_type = person ['pet']\n",
    "    if pet_type.startswith(\"C\"):\n",
    "        cat_owners = person['name']\n",
    "        age_of_owner = person ['age']\n",
    "        iteration_count += 1\n",
    "        if age_of_owner < 28:\n",
    "            cat_owners_under_28.append(cat_owners)\n",
    "        continue\n",
    "    elif pet_type.startswith('D'):\n",
    "        pass \n",
    "print(cat_owners_under_28)\n",
    "print(iteration_count)\n",
    "# for loop goes here"
   ]
  },
  {
   "cell_type": "code",
   "execution_count": null,
   "metadata": {},
   "outputs": [],
   "source": []
  },
  {
   "cell_type": "code",
   "execution_count": 59,
   "metadata": {},
   "outputs": [
    {
     "name": "stdout",
     "output_type": "stream",
     "text": [
      "Katie\n",
      "1\n"
     ]
    }
   ],
   "source": [
    "# use a for loop to find the first person who is above 29 years old in our list of people\n",
    "# remember to use a break and or continue statement\n",
    "iteration_count = 0\n",
    "thirty_something_yr_old = None\n",
    "for person in people:\n",
    "    age = person ['age']\n",
    "    if age > 29:\n",
    "        thirty_something_yr_old = person['name']\n",
    "        iteration_count += 1\n",
    "        break\n",
    "    elif age <= 29:\n",
    "        pass \n",
    "print(thirty_something_yr_old)\n",
    "print(iteration_count)\n",
    "# for loop goes here"
   ]
  },
  {
   "cell_type": "code",
   "execution_count": 80,
   "metadata": {},
   "outputs": [
    {
     "name": "stdout",
     "output_type": "stream",
     "text": [
      "['Daniel', 'Katie', 'Owen', 'Josh', 'Estelle', 'Gustav']\n",
      "Gustav\n",
      "['Frank', 'Gabby', 'Helen']\n",
      "6\n"
     ]
    }
   ],
   "source": [
    "# use a for loop to create a list of person names and another list of pet names for all dog owners\n",
    "# remember to use break and or continue statements\n",
    "dog_name = None\n",
    "dog_owner_names = None\n",
    "owner_names = []\n",
    "dog_names_list = []\n",
    "iteration_count = 0\n",
    "for person in people:\n",
    "    name = person ['name']\n",
    "    pet_type = person ['pet']\n",
    "    owner_names.append(name)\n",
    "    iteration_count +=1\n",
    "    if pet_type.startswith('D'):\n",
    "        dog_name = person['pet_name']\n",
    "        dog_owner_names = person ['name']\n",
    "        dog_names_list.append(dog_name)\n",
    "        continue\n",
    "    \n",
    "print(owner_names)\n",
    "print(dog_owner_names)\n",
    "print(dog_names_list)\n",
    "print(iteration_count)\n",
    "# for loop goes here"
   ]
  },
  {
   "cell_type": "code",
   "execution_count": 61,
   "metadata": {},
   "outputs": [
    {
     "name": "stdout",
     "output_type": "stream",
     "text": [
      "['Daniel', 'Katie', 'Owen', 'Josh', 'Estelle', 'Gustav']\n",
      "['Gato', 'Cosmo', 'Chat']\n",
      "6\n"
     ]
    }
   ],
   "source": [
    "# use a for loop to create a list of person names and another list of pet names for all cat owners this time\n",
    "# remember to use break and or continue statements\n",
    "cat_owner_names = None\n",
    "cat_names = None\n",
    "owner_names = []\n",
    "cat_names_list = []\n",
    "iteration_count = 0\n",
    "for person in people:\n",
    "    name = person ['name']\n",
    "    pet_type = person ['pet']\n",
    "    owner_names.append(name)\n",
    "    iteration_count +=1\n",
    "    if pet_type.startswith('C'):\n",
    "        cat_names = person['pet_name']\n",
    "        cat_names_list.append(cat_names)\n",
    "        continue\n",
    "    \n",
    "print(owner_names)\n",
    "print(cat_names_list)\n",
    "print(iteration_count)\n",
    "# for loop goes here"
   ]
  },
  {
   "cell_type": "code",
   "execution_count": 75,
   "metadata": {
    "scrolled": true
   },
   "outputs": [
    {
     "name": "stdout",
     "output_type": "stream",
     "text": [
      "[11, 13, 15, 17, 19, 21, 23, 25, 27, 29, 31, 33, 35, 37, 39, 41, 43, 45, 47, 49, 51, 53, 55, 57, 59, 61, 63, 65, 67, 69, 71, 73, 75, 77, 79]\n",
      "35\n"
     ]
    }
   ],
   "source": [
    "# use a for loop to create a list of odd numbers from the list of numbers from 0 to 100\n",
    "# each time there is an odd number, add 10 to it and append it to the list_of_odd_numbers_plus_ten\n",
    "# stop adding numbers to the list when there are 35 numbers\n",
    "# use break and continue statements in your code\n",
    "list_of_numbers = list(range(0,100))\n",
    "list_of_odd_numbers_plus_ten = []\n",
    "iteration_count = 0\n",
    "for number in list_of_numbers:\n",
    "    if number % 2 != 0:\n",
    "        odd_number_plus_ten = number + 10\n",
    "        list_of_odd_numbers_plus_ten.append(odd_number_plus_ten)\n",
    "        iteration_count +=1\n",
    "        continue\n",
    "    elif iteration_count ==35:\n",
    "        break\n",
    "print(list_of_odd_numbers_plus_ten)\n",
    "print(iteration_count)"
   ]
  },
  {
   "cell_type": "markdown",
   "metadata": {},
   "source": [
    "## Summary"
   ]
  },
  {
   "cell_type": "markdown",
   "metadata": {},
   "source": [
    "In this lab, we practiced using while loops, which continue executing their block of code until the given condition is no longer truthy. This is useful for instances where we do not have a collection or do not need a collection to solve our problem, especially when we would only like to stop the process according to a certain condition. We then practiced using control flow statements, `break` and `continue`, to selectively operate on elements, append them to new lists, or assign them to new variables."
   ]
  }
 ],
 "metadata": {
  "kernelspec": {
   "display_name": "learn-env",
   "language": "python",
   "name": "learn-env"
  },
  "language_info": {
   "codemirror_mode": {
    "name": "ipython",
    "version": 3
   },
   "file_extension": ".py",
   "mimetype": "text/x-python",
   "name": "python",
   "nbconvert_exporter": "python",
   "pygments_lexer": "ipython3",
   "version": "3.7.0"
  }
 },
 "nbformat": 4,
 "nbformat_minor": 2
}
